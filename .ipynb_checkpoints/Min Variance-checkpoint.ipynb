{
 "cells": [
  {
   "cell_type": "code",
   "execution_count": 1,
   "metadata": {},
   "outputs": [],
   "source": [
    "import numpy as np\n",
    "import pandas as pd\n",
    "import random\n",
    "import plotly.express as px\n",
    "from yahoo_fin.stock_info import *\n",
    "import matplotlib.pyplot as plt"
   ]
  },
  {
   "cell_type": "code",
   "execution_count": 2,
   "metadata": {},
   "outputs": [],
   "source": [
    "basket = ['TLT', 'IEF', 'SPDN']\n",
    "total_return_window = 90\n",
    "volatility_window = 40\n",
    "nlargest = 3"
   ]
  },
  {
   "cell_type": "code",
   "execution_count": 3,
   "metadata": {
    "scrolled": true
   },
   "outputs": [
    {
     "data": {
      "text/html": [
       "<div>\n",
       "<style scoped>\n",
       "    .dataframe tbody tr th:only-of-type {\n",
       "        vertical-align: middle;\n",
       "    }\n",
       "\n",
       "    .dataframe tbody tr th {\n",
       "        vertical-align: top;\n",
       "    }\n",
       "\n",
       "    .dataframe thead th {\n",
       "        text-align: right;\n",
       "    }\n",
       "</style>\n",
       "<table border=\"1\" class=\"dataframe\">\n",
       "  <thead>\n",
       "    <tr style=\"text-align: right;\">\n",
       "      <th></th>\n",
       "      <th>TLT</th>\n",
       "      <th>IEF</th>\n",
       "      <th>SPDN</th>\n",
       "    </tr>\n",
       "  </thead>\n",
       "  <tbody>\n",
       "    <tr>\n",
       "      <th>2021-08-17</th>\n",
       "      <td>147.936783</td>\n",
       "      <td>116.998940</td>\n",
       "      <td>15.23</td>\n",
       "    </tr>\n",
       "    <tr>\n",
       "      <th>2021-08-18</th>\n",
       "      <td>148.433731</td>\n",
       "      <td>116.939163</td>\n",
       "      <td>15.41</td>\n",
       "    </tr>\n",
       "    <tr>\n",
       "      <th>2021-08-19</th>\n",
       "      <td>149.526947</td>\n",
       "      <td>117.198189</td>\n",
       "      <td>15.39</td>\n",
       "    </tr>\n",
       "    <tr>\n",
       "      <th>2021-08-20</th>\n",
       "      <td>149.626358</td>\n",
       "      <td>117.088593</td>\n",
       "      <td>15.26</td>\n",
       "    </tr>\n",
       "    <tr>\n",
       "      <th>2021-08-23</th>\n",
       "      <td>149.526947</td>\n",
       "      <td>117.118484</td>\n",
       "      <td>15.13</td>\n",
       "    </tr>\n",
       "    <tr>\n",
       "      <th>...</th>\n",
       "      <td>...</td>\n",
       "      <td>...</td>\n",
       "      <td>...</td>\n",
       "    </tr>\n",
       "    <tr>\n",
       "      <th>2021-12-16</th>\n",
       "      <td>149.139999</td>\n",
       "      <td>115.750000</td>\n",
       "      <td>14.36</td>\n",
       "    </tr>\n",
       "    <tr>\n",
       "      <th>2021-12-17</th>\n",
       "      <td>150.830002</td>\n",
       "      <td>116.010002</td>\n",
       "      <td>14.52</td>\n",
       "    </tr>\n",
       "    <tr>\n",
       "      <th>2021-12-20</th>\n",
       "      <td>149.699997</td>\n",
       "      <td>115.910004</td>\n",
       "      <td>14.67</td>\n",
       "    </tr>\n",
       "    <tr>\n",
       "      <th>2021-12-21</th>\n",
       "      <td>149.130005</td>\n",
       "      <td>115.449997</td>\n",
       "      <td>14.40</td>\n",
       "    </tr>\n",
       "    <tr>\n",
       "      <th>2021-12-22</th>\n",
       "      <td>149.820007</td>\n",
       "      <td>115.559998</td>\n",
       "      <td>14.27</td>\n",
       "    </tr>\n",
       "  </tbody>\n",
       "</table>\n",
       "<p>90 rows × 3 columns</p>\n",
       "</div>"
      ],
      "text/plain": [
       "                   TLT         IEF   SPDN\n",
       "2021-08-17  147.936783  116.998940  15.23\n",
       "2021-08-18  148.433731  116.939163  15.41\n",
       "2021-08-19  149.526947  117.198189  15.39\n",
       "2021-08-20  149.626358  117.088593  15.26\n",
       "2021-08-23  149.526947  117.118484  15.13\n",
       "...                ...         ...    ...\n",
       "2021-12-16  149.139999  115.750000  14.36\n",
       "2021-12-17  150.830002  116.010002  14.52\n",
       "2021-12-20  149.699997  115.910004  14.67\n",
       "2021-12-21  149.130005  115.449997  14.40\n",
       "2021-12-22  149.820007  115.559998  14.27\n",
       "\n",
       "[90 rows x 3 columns]"
      ]
     },
     "execution_count": 3,
     "metadata": {},
     "output_type": "execute_result"
    }
   ],
   "source": [
    "df_data = {}\n",
    "for stock_ticker in basket: \n",
    "    data = get_data(stock_ticker)\n",
    "    adj_closed = data['adjclose'][-total_return_window:]\n",
    "    df_data[stock_ticker] = adj_closed\n",
    "    \n",
    "df = pd.DataFrame(df_data)\n",
    "df = df.dropna()\n",
    "df"
   ]
  },
  {
   "cell_type": "code",
   "execution_count": 4,
   "metadata": {},
   "outputs": [
    {
     "data": {
      "text/plain": [
       "['TLT', 'IEF', 'SPDN']"
      ]
     },
     "execution_count": 4,
     "metadata": {},
     "output_type": "execute_result"
    }
   ],
   "source": [
    "window_returns = np.log(df.iloc[-1]) - np.log(df.iloc[0])\n",
    "nlargest = list(window_returns.nlargest(4).index)\n",
    "nlargest"
   ]
  },
  {
   "cell_type": "code",
   "execution_count": 5,
   "metadata": {},
   "outputs": [],
   "source": [
    "returns = df[nlargest].pct_change()\n",
    "returns_cov_normalized = returns[-volatility_window:].apply(lambda x: np.log(1+x)).cov()\n",
    "returns_corr_normalized = returns[-volatility_window:].apply(lambda x: np.log(1+x)).corr()\n",
    "returns_std = returns.apply(lambda x: np.log(1+x)).std()"
   ]
  },
  {
   "cell_type": "code",
   "execution_count": 6,
   "metadata": {},
   "outputs": [
    {
     "data": {
      "text/plain": [
       "TLT     0.009463\n",
       "IEF     0.003593\n",
       "SPDN    0.008554\n",
       "dtype: float64"
      ]
     },
     "execution_count": 6,
     "metadata": {},
     "output_type": "execute_result"
    }
   ],
   "source": [
    "#Returns Standard Deviations\n",
    "returns_std\n"
   ]
  },
  {
   "cell_type": "code",
   "execution_count": 7,
   "metadata": {},
   "outputs": [
    {
     "data": {
      "text/html": [
       "<div>\n",
       "<style scoped>\n",
       "    .dataframe tbody tr th:only-of-type {\n",
       "        vertical-align: middle;\n",
       "    }\n",
       "\n",
       "    .dataframe tbody tr th {\n",
       "        vertical-align: top;\n",
       "    }\n",
       "\n",
       "    .dataframe thead th {\n",
       "        text-align: right;\n",
       "    }\n",
       "</style>\n",
       "<table border=\"1\" class=\"dataframe\">\n",
       "  <thead>\n",
       "    <tr style=\"text-align: right;\">\n",
       "      <th></th>\n",
       "      <th>TLT</th>\n",
       "      <th>IEF</th>\n",
       "      <th>SPDN</th>\n",
       "    </tr>\n",
       "  </thead>\n",
       "  <tbody>\n",
       "    <tr>\n",
       "      <th>TLT</th>\n",
       "      <td>1.000000</td>\n",
       "      <td>0.899999</td>\n",
       "      <td>0.468478</td>\n",
       "    </tr>\n",
       "    <tr>\n",
       "      <th>IEF</th>\n",
       "      <td>0.899999</td>\n",
       "      <td>1.000000</td>\n",
       "      <td>0.502179</td>\n",
       "    </tr>\n",
       "    <tr>\n",
       "      <th>SPDN</th>\n",
       "      <td>0.468478</td>\n",
       "      <td>0.502179</td>\n",
       "      <td>1.000000</td>\n",
       "    </tr>\n",
       "  </tbody>\n",
       "</table>\n",
       "</div>"
      ],
      "text/plain": [
       "           TLT       IEF      SPDN\n",
       "TLT   1.000000  0.899999  0.468478\n",
       "IEF   0.899999  1.000000  0.502179\n",
       "SPDN  0.468478  0.502179  1.000000"
      ]
     },
     "execution_count": 7,
     "metadata": {},
     "output_type": "execute_result"
    }
   ],
   "source": [
    "#Returns Correlations\n",
    "returns_corr_normalized"
   ]
  },
  {
   "cell_type": "code",
   "execution_count": 8,
   "metadata": {},
   "outputs": [
    {
     "data": {
      "text/html": [
       "<div>\n",
       "<style scoped>\n",
       "    .dataframe tbody tr th:only-of-type {\n",
       "        vertical-align: middle;\n",
       "    }\n",
       "\n",
       "    .dataframe tbody tr th {\n",
       "        vertical-align: top;\n",
       "    }\n",
       "\n",
       "    .dataframe thead th {\n",
       "        text-align: right;\n",
       "    }\n",
       "</style>\n",
       "<table border=\"1\" class=\"dataframe\">\n",
       "  <thead>\n",
       "    <tr style=\"text-align: right;\">\n",
       "      <th></th>\n",
       "      <th>TLT</th>\n",
       "      <th>IEF</th>\n",
       "      <th>SPDN</th>\n",
       "    </tr>\n",
       "  </thead>\n",
       "  <tbody>\n",
       "    <tr>\n",
       "      <th>TLT</th>\n",
       "      <td>0.000116</td>\n",
       "      <td>0.000042</td>\n",
       "      <td>0.000049</td>\n",
       "    </tr>\n",
       "    <tr>\n",
       "      <th>IEF</th>\n",
       "      <td>0.000042</td>\n",
       "      <td>0.000018</td>\n",
       "      <td>0.000021</td>\n",
       "    </tr>\n",
       "    <tr>\n",
       "      <th>SPDN</th>\n",
       "      <td>0.000049</td>\n",
       "      <td>0.000021</td>\n",
       "      <td>0.000094</td>\n",
       "    </tr>\n",
       "  </tbody>\n",
       "</table>\n",
       "</div>"
      ],
      "text/plain": [
       "           TLT       IEF      SPDN\n",
       "TLT   0.000116  0.000042  0.000049\n",
       "IEF   0.000042  0.000018  0.000021\n",
       "SPDN  0.000049  0.000021  0.000094"
      ]
     },
     "execution_count": 8,
     "metadata": {},
     "output_type": "execute_result"
    }
   ],
   "source": [
    "#Returns Covariances \n",
    "returns_cov_normalized"
   ]
  },
  {
   "cell_type": "code",
   "execution_count": 9,
   "metadata": {},
   "outputs": [],
   "source": [
    "port_returns = []\n",
    "port_volatility = []\n",
    "port_weights = []\n",
    "\n",
    "num_assets = len(returns.columns)\n",
    "num_portfolios = 10000\n",
    "individual_rets = window_returns[nlargest]"
   ]
  },
  {
   "cell_type": "markdown",
   "metadata": {},
   "source": [
    "## Analyze custom portfolio weight\n",
    "Keep it commented out when not in use"
   ]
  },
  {
   "cell_type": "code",
   "execution_count": 10,
   "metadata": {},
   "outputs": [],
   "source": [
    "# for port in range(1): \n",
    "#     weights = [1,0,0,0]\n",
    "#     port_weights.append(weights)\n",
    "    \n",
    "#     rets = np.dot(weights, individual_rets)\n",
    "#     port_returns.append(rets)\n",
    "    \n",
    "#     var = returns_cov_normalized.mul(weights, axis=0).mul(weights, axis=1).sum().sum()\n",
    "#     sd = np.sqrt(var)\n",
    "#     ann_sd = sd * np.sqrt(256)\n",
    "#     port_volatility.append(ann_sd)"
   ]
  },
  {
   "cell_type": "markdown",
   "metadata": {},
   "source": [
    "## Analyze random portfolios and their efficient frontier"
   ]
  },
  {
   "cell_type": "code",
   "execution_count": null,
   "metadata": {},
   "outputs": [],
   "source": [
    "for port in range(num_portfolios): \n",
    "    weights = np.random.random(num_assets)\n",
    "    weights = weights/np.sum(weights)\n",
    "    port_weights.append(weights)\n",
    "    \n",
    "    rets = np.dot(weights, individual_rets)\n",
    "    port_returns.append(rets)\n",
    "    \n",
    "    portfolio_var = returns_cov_normalized.mul(weights, axis=0).mul(weights, axis=1).sum().sum()\n",
    "    sd = np.sqrt(portfolio_var)\n",
    "    ann_sd = sd * np.sqrt(256)\n",
    "    port_volatility.append(ann_sd)"
   ]
  },
  {
   "cell_type": "markdown",
   "metadata": {},
   "source": [
    "## Build DataFrame of portfolios"
   ]
  },
  {
   "cell_type": "code",
   "execution_count": null,
   "metadata": {
    "scrolled": true
   },
   "outputs": [],
   "source": [
    "    \n",
    "data = {'Returns': port_returns, 'Volatility': port_volatility}\n",
    "hover_data = []\n",
    "for counter, symbol in enumerate(nlargest): \n",
    "    data[symbol] = [w[counter] for w in port_weights]\n",
    "    hover_data.append(symbol)\n",
    "    \n",
    "portfolios_V1 = pd.DataFrame(data)\n",
    "portfolios_V1.head()"
   ]
  },
  {
   "cell_type": "markdown",
   "metadata": {},
   "source": [
    "## Efficient Frontier"
   ]
  },
  {
   "cell_type": "code",
   "execution_count": null,
   "metadata": {
    "scrolled": true
   },
   "outputs": [],
   "source": [
    "import plotly.express as px\n",
    "fig = px.scatter(portfolios_V1, x=\"Volatility\", y=\"Returns\", hover_data=hover_data)\n",
    "fig.show()"
   ]
  },
  {
   "cell_type": "markdown",
   "metadata": {},
   "source": [
    "## Min Variance Portfolio"
   ]
  },
  {
   "cell_type": "code",
   "execution_count": null,
   "metadata": {},
   "outputs": [],
   "source": [
    "min_var_portfolio = portfolios_V1.iloc[portfolios_V1['Volatility'].idxmin()]\n",
    "min_var_portfolio"
   ]
  },
  {
   "cell_type": "code",
   "execution_count": null,
   "metadata": {
    "scrolled": false
   },
   "outputs": [],
   "source": [
    "PORTFOLIO_VALUE = 35000\n",
    "min_var_portfolio[nlargest] * PORTFOLIO_VALUE"
   ]
  },
  {
   "cell_type": "markdown",
   "metadata": {},
   "source": [
    "## Max Sharpe Ratio Portfolio"
   ]
  },
  {
   "cell_type": "code",
   "execution_count": null,
   "metadata": {},
   "outputs": [],
   "source": [
    "max_sharpe_portfolio = portfolios_V1.iloc[(portfolios_V1['Returns'] / portfolios_V1['Volatility']).idxmax()]\n",
    "max_sharpe_portfolio"
   ]
  },
  {
   "cell_type": "code",
   "execution_count": null,
   "metadata": {},
   "outputs": [],
   "source": [
    "max_sharpe_portfolio[nlargest] * PORTFOLIO_VALUE"
   ]
  },
  {
   "cell_type": "code",
   "execution_count": null,
   "metadata": {},
   "outputs": [],
   "source": []
  }
 ],
 "metadata": {
  "kernelspec": {
   "display_name": "Python 3",
   "language": "python",
   "name": "python3"
  },
  "language_info": {
   "codemirror_mode": {
    "name": "ipython",
    "version": 3
   },
   "file_extension": ".py",
   "mimetype": "text/x-python",
   "name": "python",
   "nbconvert_exporter": "python",
   "pygments_lexer": "ipython3",
   "version": "3.8.5"
  }
 },
 "nbformat": 4,
 "nbformat_minor": 4
}
